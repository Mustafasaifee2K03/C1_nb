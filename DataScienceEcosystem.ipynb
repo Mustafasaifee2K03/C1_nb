{
 "cells": [
  {
   "cell_type": "markdown",
   "metadata": {},
   "source": [
    "<center>\n",
    "    <img src=\"https://cf-courses-data.s3.us.cloud-object-storage.appdomain.cloud/IBMDeveloperSkillsNetwork-DS0105EN-SkillsNetwork/labs/Module2/images/SN_web_lightmode.png\" width=\"300\" alt=\"cognitiveclass.ai logo\">\n",
    "</center>\n"
   ]
  },
  {
   "cell_type": "markdown",
   "metadata": {},
   "source": [
    "#### Add your code below following the instructions given in the course\n"
   ]
  },
  {
   "cell_type": "markdown",
   "metadata": {},
   "source": [
    "In this notebook, Data Science Tools and Ecosystem are summarized."
   ]
  },
  {
   "cell_type": "markdown",
   "metadata": {},
   "source": [
    "Some of the popular languages that Data Scientists use are:\n",
    "1. Python\n",
    "2. R \n",
    "3. SQL\n",
    "4. Scala"
   ]
  },
  {
   "cell_type": "markdown",
   "metadata": {},
   "source": [
    "Some of the commonly used libraries used by Data Scientists include:\n",
    "1. matplotlib\n",
    "2. pandas\n",
    "3. scikit-learn\n",
    "4. NumPy\n",
    "5. TensorFlow"
   ]
  },
  {
   "cell_type": "markdown",
   "metadata": {},
   "source": [
    "| Data Science Tools |\n",
    "|--------------------|\n",
    "| Jupyter Notebooks  |\n",
    "| RStudio            |\n",
    "| Visual Studio Code(with Python Extension)|\n"
   ]
  },
  {
   "cell_type": "markdown",
   "metadata": {},
   "source": [
    "### Below are a few examples of evaluating arithmetic expressions in Python\n",
    "**Using `eval()` function:**\n",
    "\n",
    "1. **Basic Arithmetic:**\n",
    "    \n",
    "   expression = \"3 + 4 * 2\"  \n",
    "   result = eval(expression)  \n",
    "   print(result)  # Output: 11\n",
    "\n",
    "2. **Using Variables:**  \n",
    "   x = 5  \n",
    "   y = 3  \n",
    "   expression = \"x * y + (x - y)\"  \n",
    "   result = eval(expression)  \n",
    "   print(result)  # Output: 26  \n",
    "   \n",
    "3. **Math Functions:**  \n",
    "   import math  \n",
    "   expression = \"math.sqrt(16) + math.pow(3, 2)\"  \n",
    "   result = eval(expression)  \n",
    "   print(result)  # Output: 13.0  \n"
   ]
  },
  {
   "cell_type": "code",
   "execution_count": 1,
   "metadata": {},
   "outputs": [
    {
     "name": "stdout",
     "output_type": "stream",
     "text": [
      "17\n"
     ]
    }
   ],
   "source": [
    "# here I am writing a simple code to multiply and then add integers\n",
    "print((3*4)+5)"
   ]
  },
  {
   "cell_type": "code",
   "execution_count": 3,
   "metadata": {},
   "outputs": [
    {
     "name": "stdout",
     "output_type": "stream",
     "text": [
      "The value in minutes  200  can be written as  3.3333333333333335  in hours\n"
     ]
    }
   ],
   "source": [
    "# The code written below will convert minutes to hours by dividing by 60\n",
    "mins=200\n",
    "hours=mins/60.0\n",
    "print(\"The value in minutes \",mins,\" can be written as \",hours,\" in hours\")"
   ]
  },
  {
   "cell_type": "markdown",
   "metadata": {},
   "source": [
    "**Objectives**\n",
    "* Categories and names of Data Science tools\n",
    "* Brief introduction of Languages of data science(Python, R language,SQL)\n",
    "* Knowledge about various libraries,APIs,datasets & models\n",
    "* Hands on Jupyter notebooks & Jupyter labs\n",
    "* Study of RStudio and Github\n"
   ]
  },
  {
   "cell_type": "markdown",
   "metadata": {},
   "source": [
    "## Author\n",
    "   Mustafa Saifee"
   ]
  },
  {
   "cell_type": "code",
   "execution_count": null,
   "metadata": {},
   "outputs": [],
   "source": []
  }
 ],
 "metadata": {
  "kernelspec": {
   "display_name": "Python 3 (ipykernel)",
   "language": "python",
   "name": "python3"
  },
  "language_info": {
   "codemirror_mode": {
    "name": "ipython",
    "version": 3
   },
   "file_extension": ".py",
   "mimetype": "text/x-python",
   "name": "python",
   "nbconvert_exporter": "python",
   "pygments_lexer": "ipython3",
   "version": "3.10.5"
  }
 },
 "nbformat": 4,
 "nbformat_minor": 4
}
